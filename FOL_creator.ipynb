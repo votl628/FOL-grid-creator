{
  "nbformat": 4,
  "nbformat_minor": 0,
  "metadata": {
    "colab": {
      "provenance": [],
      "collapsed_sections": [
        "Zfb1i2_ni-YM",
        "s-OjM2dCjK6Y"
      ]
    },
    "kernelspec": {
      "name": "python3",
      "display_name": "Python 3"
    },
    "language_info": {
      "name": "python"
    }
  },
  "cells": [
    {
      "cell_type": "markdown",
      "source": [
        "#### Set the input parameters"
      ],
      "metadata": {
        "id": "_HNV2rFWjB7T"
      }
    },
    {
      "cell_type": "code",
      "source": [
        "center_lat = 28.587784 # latitude of center point, in decimal degrees for example 28.587784, 77.238539\n",
        "center_lon = 77.238539 # longitude of center point, in decimal degrees\n",
        "radius = 5 # radius of flower of life, in kilometres\n",
        "rotation = 0 # optional: add a tilt to the grid. I do not recommend tilting your grids\n",
        "max_points = 300 # the number of points you want the grid to be"
      ],
      "metadata": {
        "id": "Z4XQ7gFBjDXS"
      },
      "execution_count": 1,
      "outputs": []
    },
    {
      "cell_type": "markdown",
      "source": [
        "#### Logic for calculating distances between points and creating pattern"
      ],
      "metadata": {
        "id": "Zfb1i2_ni-YM"
      }
    },
    {
      "cell_type": "code",
      "source": [
        "divisions = 6\n",
        "round_to_decimal_place = 2\n",
        "max_points -= 1"
      ],
      "metadata": {
        "id": "kZXg2zf4BIDP"
      },
      "execution_count": null,
      "outputs": []
    },
    {
      "cell_type": "code",
      "execution_count": null,
      "metadata": {
        "id": "9XPwYbjjQqkj"
      },
      "outputs": [],
      "source": [
        "# from math import asin, atan2, cos, degrees, radians, sin\n",
        "# import numpy as np\n",
        "# import pandas as pd\n",
        "# from google.colab import files\n",
        "# import math\n",
        "\n",
        "# # R = 6371\n",
        "\n",
        "# def get_point_at_distance(lat1, lon1, d, bearing, R=6371.0088):\n",
        "#     \"\"\"\n",
        "#     lat: initial latitude, in degrees\n",
        "#     lon: initial longitude, in degrees\n",
        "#     d: target distance from initial\n",
        "#     bearing: (true) heading in degrees\n",
        "#     R: optional radius of sphere, defaults to mean radius of earth\n",
        "\n",
        "#     Returns new lat/lon coordinate {d}km from initial, in degrees\n",
        "#     \"\"\"\n",
        "#     lat1 = radians(lat1)\n",
        "#     lon1 = radians(lon1)\n",
        "#     a = radians(bearing)\n",
        "#     lat2 = asin(sin(lat1) * cos(d/R) + cos(lat1) * sin(d/R) * cos(a))\n",
        "#     lon2 = lon1 + atan2(\n",
        "#         sin(a) * sin(d/R) * cos(lat1),\n",
        "#         cos(d/R) - sin(lat1) * sin(lat2)\n",
        "#     )\n",
        "#     return (degrees(lat2), degrees(lon2),)\n",
        "\n"
      ]
    },
    {
      "cell_type": "code",
      "source": [
        "import geopy\n",
        "from geopy.distance import geodesic\n",
        "from math import asin, atan2, cos, degrees, radians, sin\n",
        "from geopy import Point\n",
        "import pandas as pd\n",
        "from google.colab import files\n",
        "\n",
        "def get_point_at_distance(lat1, lon1, d, deg_bearing):\n",
        "\n",
        "  # given: lat1, lon1, b = bearing in degrees, d = distance in kilometers\n",
        "\n",
        "  #origin = geopy.Point(lat1, lon1)\n",
        "  origin = (lat1, lon1)\n",
        "  # destination = geodesic(kilometers=d).destination(origin, bearing)\n",
        "  lat2,lon2 = geodesic(kilometers=d).destination(origin, bearing=deg_bearing).format_decimal().split(',')\n",
        "  #lat2,lon2 = geopy.distance(kilometers=d).destination((lat1, lon1), bearing)\n",
        "  #lat2, lon2 = destination.latitude, destination.longitude\n",
        "  return (float(lat2), float(lon2),)\n"
      ],
      "metadata": {
        "id": "KRosbm8MahgF"
      },
      "execution_count": null,
      "outputs": []
    },
    {
      "cell_type": "code",
      "source": [
        "# up - full vertical\n",
        "# top right - full vertical\n",
        "# top left - full vertical\n",
        "# top right from top right - full vertical\n",
        "# top left from top left - full vertical\n",
        "# top right from top right from top right - full vertical\n",
        "# top left from top left from top left - full vertical\n",
        "\n",
        "divisions = 6 # creates flower of life by dividing the 360 degree circle into 6 equal parts\n",
        "\n",
        "cuts = []\n",
        "\n",
        "tmp_cut = 1\n",
        "\n",
        "for i in range(1, 2^1000000):\n",
        "  tmp_cut += divisions*i\n",
        "  cuts.append(tmp_cut)\n",
        "  if tmp_cut > max_points:\n",
        "    break\n",
        "\n",
        "results_df = pd.DataFrame({'lat':[center_lat],\n",
        "                              'lon':[center_lon]})\n",
        "\n",
        "max_iteration_number = len(cuts)\n",
        "\n",
        "right_start_points = pd.DataFrame({'lat':[],\n",
        "                              'lon':[]})\n",
        "\n",
        "left_start_points = pd.DataFrame({'lat':[],\n",
        "                              'lon':[]})\n",
        "\n",
        "# up from center coord\n",
        "\n",
        "for j in range(1, 2*max_iteration_number+1):\n",
        "      start_point = results_df.loc[0]\n",
        "\n",
        "      tmp_result_lat, tmp_result_lon = get_point_at_distance(start_point['lat'],\n",
        "                                                           start_point['lon'], radius*j, 0+rotation)\n",
        "\n",
        "      df_tmp_coord = pd.DataFrame({'lat':[tmp_result_lat], 'lon':[tmp_result_lon]})\n",
        "\n",
        "      results_df = pd.concat([results_df, df_tmp_coord])\n",
        "      results_df = results_df.reset_index(drop=True)\n",
        "\n",
        "# down from center coord\n",
        "\n",
        "for j in range(1, 2*max_iteration_number+1):\n",
        "      start_point = results_df.loc[0]\n",
        "\n",
        "      tmp_result_lat, tmp_result_lon = get_point_at_distance(start_point['lat'],\n",
        "                                                           start_point['lon'], radius*j, 180+rotation)\n",
        "\n",
        "      df_tmp_coord = pd.DataFrame({'lat':[tmp_result_lat], 'lon':[tmp_result_lon]})\n",
        "\n",
        "      results_df = pd.concat([results_df, df_tmp_coord])\n",
        "      results_df = results_df.reset_index(drop=True)\n",
        "\n",
        "\n",
        "# top right start pt\n",
        "\n",
        "start_point = results_df.loc[0]\n",
        "\n",
        "tmp_result_lat, tmp_result_lon = get_point_at_distance(start_point['lat'],\n",
        "                                                        start_point['lon'], radius, 60+rotation)\n",
        "\n",
        "df_tmp_coord = pd.DataFrame({'lat':[tmp_result_lat], 'lon':[tmp_result_lon]})\n",
        "\n",
        "right_start_points = pd.concat([right_start_points, df_tmp_coord])\n",
        "right_start_points = right_start_points.reset_index(drop=True)\n",
        "\n",
        "results_df = pd.concat([results_df, df_tmp_coord])\n",
        "results_df = results_df.reset_index(drop=True)\n",
        "\n",
        "# top left start pt\n",
        "\n",
        "start_point = results_df.loc[0]\n",
        "\n",
        "tmp_result_lat, tmp_result_lon = get_point_at_distance(start_point['lat'],\n",
        "                                                        start_point['lon'], radius, 300+rotation)\n",
        "\n",
        "df_tmp_coord = pd.DataFrame({'lat':[tmp_result_lat], 'lon':[tmp_result_lon]})\n",
        "\n",
        "left_start_points = pd.concat([left_start_points, df_tmp_coord])\n",
        "left_start_points = left_start_points.reset_index(drop=True)\n",
        "\n",
        "results_df = pd.concat([results_df, df_tmp_coord])\n",
        "results_df = results_df.reset_index(drop=True)\n",
        "\n",
        "for iteration_number in range(1, max_iteration_number+1):\n",
        "\n",
        "    # next top right start pt\n",
        "\n",
        "    start_point = right_start_points.loc[iteration_number-1]\n",
        "\n",
        "    tmp_result_lat, tmp_result_lon = get_point_at_distance(start_point['lat'],\n",
        "                                                            start_point['lon'], radius, 60+rotation)\n",
        "\n",
        "    df_tmp_coord = pd.DataFrame({'lat':[tmp_result_lat], 'lon':[tmp_result_lon]})\n",
        "\n",
        "    right_start_points = pd.concat([right_start_points, df_tmp_coord])\n",
        "    right_start_points = right_start_points.reset_index(drop=True)\n",
        "\n",
        "    results_df = pd.concat([results_df, df_tmp_coord])\n",
        "    results_df = results_df.reset_index(drop=True)\n",
        "\n",
        "\n",
        "    for j in range(1, 2*max_iteration_number+1):\n",
        "      # go up from top right coord\n",
        "\n",
        "      start_point = right_start_points.loc[iteration_number-1]\n",
        "\n",
        "      tmp_result_lat, tmp_result_lon = get_point_at_distance(start_point['lat'],\n",
        "                                                           start_point['lon'], radius*j, 0+rotation)\n",
        "\n",
        "      df_tmp_coord = pd.DataFrame({'lat':[tmp_result_lat], 'lon':[tmp_result_lon]})\n",
        "\n",
        "      results_df = pd.concat([results_df, df_tmp_coord])\n",
        "      results_df = results_df.reset_index(drop=True)\n",
        "\n",
        "    for j in range(1, 2*max_iteration_number+1):\n",
        "      # go down from top right coord\n",
        "\n",
        "      start_point = right_start_points.loc[iteration_number-1]\n",
        "\n",
        "      tmp_result_lat, tmp_result_lon = get_point_at_distance(start_point['lat'],\n",
        "                                                           start_point['lon'], radius*j, 180+rotation)\n",
        "\n",
        "      df_tmp_coord = pd.DataFrame({'lat':[tmp_result_lat], 'lon':[tmp_result_lon]})\n",
        "\n",
        "      results_df = pd.concat([results_df, df_tmp_coord])\n",
        "      results_df = results_df.reset_index(drop=True)\n",
        "\n",
        "    # next top left start pt\n",
        "\n",
        "    start_point = left_start_points.loc[iteration_number-1]\n",
        "\n",
        "    tmp_result_lat, tmp_result_lon = get_point_at_distance(start_point['lat'],\n",
        "                                                            start_point['lon'], radius, 300+rotation)\n",
        "\n",
        "    df_tmp_coord = pd.DataFrame({'lat':[tmp_result_lat], 'lon':[tmp_result_lon]})\n",
        "\n",
        "    left_start_points = pd.concat([left_start_points, df_tmp_coord])\n",
        "    left_start_points = left_start_points.reset_index(drop=True)\n",
        "\n",
        "\n",
        "    results_df = pd.concat([results_df, df_tmp_coord])\n",
        "    results_df = results_df.reset_index(drop=True)\n",
        "\n",
        "    for j in range(1, 2*max_iteration_number+1):\n",
        "      # go up from top left coord\n",
        "\n",
        "      start_point = left_start_points.loc[iteration_number-1]\n",
        "\n",
        "      tmp_result_lat, tmp_result_lon = get_point_at_distance(start_point['lat'],\n",
        "                                                           start_point['lon'], radius*j, 0+rotation)\n",
        "\n",
        "      df_tmp_coord = pd.DataFrame({'lat':[tmp_result_lat], 'lon':[tmp_result_lon]})\n",
        "\n",
        "      results_df = pd.concat([results_df, df_tmp_coord])\n",
        "      results_df = results_df.reset_index(drop=True)\n",
        "\n",
        "    for j in range(1, 2*max_iteration_number+1):\n",
        "      # go down from top left coord\n",
        "\n",
        "      start_point = left_start_points.loc[iteration_number-1]\n",
        "\n",
        "      tmp_result_lat, tmp_result_lon = get_point_at_distance(start_point['lat'],\n",
        "                                                           start_point['lon'], radius*j, 180+rotation)\n",
        "\n",
        "      df_tmp_coord = pd.DataFrame({'lat':[tmp_result_lat], 'lon':[tmp_result_lon]})\n",
        "\n",
        "      results_df = pd.concat([results_df, df_tmp_coord])\n",
        "      results_df = results_df.reset_index(drop=True)\n",
        "\n",
        "\n",
        "start_point = results_df.loc[0]\n",
        "distances_of_points_from_center = []\n",
        "\n",
        "for i, r in results_df.iterrows():\n",
        "  tmp_distance = geodesic(start_point, (r['lat'],r['lon']))\n",
        "  distances_of_points_from_center.append(tmp_distance)\n",
        "\n",
        "results_df2 = results_df\n",
        "results_df2['distance'] = distances_of_points_from_center\n",
        "\n",
        "keep_till_this_iteration = (max_iteration_number-1)*radius\n",
        "\n",
        "results_df2 = results_df2.sort_values(by='distance')\n",
        "results_df2 = results_df2.reset_index(drop=True)\n",
        "\n",
        "results_df3 = results_df2[results_df2['distance']<=keep_till_this_iteration*1.03]\n",
        "\n",
        "df_remaining = results_df2[results_df2['distance']>keep_till_this_iteration*1.03]\n",
        "df_remaining = df_remaining.reset_index(drop=True)\n",
        "\n",
        "keep_these_remaining = df_remaining.loc[:max_points-len(results_df3)]\n",
        "\n",
        "results_df4 = pd.concat([results_df3, keep_these_remaining])\n",
        "\n",
        "results_df4 = results_df4[['lat','lon']]\n",
        "results_df4 = results_df4.reset_index(drop=True)"
      ],
      "metadata": {
        "id": "M1BglQ8zhxoV"
      },
      "execution_count": null,
      "outputs": []
    },
    {
      "cell_type": "markdown",
      "source": [
        "#### Creation of Output file. Import it into Google Earth by doing File -> Import and clicking on output.txt"
      ],
      "metadata": {
        "id": "s-OjM2dCjK6Y"
      }
    },
    {
      "cell_type": "code",
      "source": [
        " # pastes the resulting coordinates into a text file to import into Google Earth\n",
        "output_text = ''\n",
        "output_text += 'latitude'+','+'longitude'\n",
        "output_text += '\\n'\n",
        "for i,r in results_df4.iterrows():\n",
        "  tmp_pt = str(r['lat'])+','+str(r['lon'])+'\\n'\n",
        "  output_text += tmp_pt\n",
        "\n",
        "f = open(\"output.txt\", \"w\")\n",
        "f.write(output_text)\n",
        "files.download('output.txt')\n",
        "f.close()\n"
      ],
      "metadata": {
        "id": "aQ99UJSwROAG",
        "colab": {
          "base_uri": "https://localhost:8080/"
        },
        "outputId": "dfbd0b2a-c969-4c0c-e14e-043b140d2344"
      },
      "execution_count": null,
      "outputs": [
        {
          "output_type": "display_data",
          "data": {
            "text/plain": [
              "<IPython.core.display.Javascript object>"
            ],
            "application/javascript": [
              "\n",
              "    async function download(id, filename, size) {\n",
              "      if (!google.colab.kernel.accessAllowed) {\n",
              "        return;\n",
              "      }\n",
              "      const div = document.createElement('div');\n",
              "      const label = document.createElement('label');\n",
              "      label.textContent = `Downloading \"${filename}\": `;\n",
              "      div.appendChild(label);\n",
              "      const progress = document.createElement('progress');\n",
              "      progress.max = size;\n",
              "      div.appendChild(progress);\n",
              "      document.body.appendChild(div);\n",
              "\n",
              "      const buffers = [];\n",
              "      let downloaded = 0;\n",
              "\n",
              "      const channel = await google.colab.kernel.comms.open(id);\n",
              "      // Send a message to notify the kernel that we're ready.\n",
              "      channel.send({})\n",
              "\n",
              "      for await (const message of channel.messages) {\n",
              "        // Send a message to notify the kernel that we're ready.\n",
              "        channel.send({})\n",
              "        if (message.buffers) {\n",
              "          for (const buffer of message.buffers) {\n",
              "            buffers.push(buffer);\n",
              "            downloaded += buffer.byteLength;\n",
              "            progress.value = downloaded;\n",
              "          }\n",
              "        }\n",
              "      }\n",
              "      const blob = new Blob(buffers, {type: 'application/binary'});\n",
              "      const a = document.createElement('a');\n",
              "      a.href = window.URL.createObjectURL(blob);\n",
              "      a.download = filename;\n",
              "      div.appendChild(a);\n",
              "      a.click();\n",
              "      div.remove();\n",
              "    }\n",
              "  "
            ]
          },
          "metadata": {}
        },
        {
          "output_type": "display_data",
          "data": {
            "text/plain": [
              "<IPython.core.display.Javascript object>"
            ],
            "application/javascript": [
              "download(\"download_755cfd3f-adb0-4fc7-8d1c-18fd5cbd497d\", \"output.txt\", 11210)"
            ]
          },
          "metadata": {}
        }
      ]
    }
  ]
}